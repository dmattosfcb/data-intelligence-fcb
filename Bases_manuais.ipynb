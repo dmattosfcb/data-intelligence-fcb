{
  "cells": [
    {
      "cell_type": "markdown",
      "metadata": {
        "id": "view-in-github",
        "colab_type": "text"
      },
      "source": [
        "<a href=\"https://colab.research.google.com/github/dmattosfcb/data-intelligence-fcb/blob/main/Bases_manuais.ipynb\" target=\"_parent\"><img src=\"https://colab.research.google.com/assets/colab-badge.svg\" alt=\"Open In Colab\"/></a>"
      ]
    },
    {
      "cell_type": "code",
      "source": [
        "from google.oauth2 import service_account\n",
        "\n",
        "import pandas as pd\n"
      ],
      "metadata": {
        "id": "7nR5626nGIUq"
      },
      "execution_count": null,
      "outputs": []
    },
    {
      "cell_type": "code",
      "source": [
        "\n",
        "df=pd.read_excel('/content/Planejados_huggies_aj.xlsx', sheet_name='Planilha1')\n",
        "\n",
        "df.columns = df.columns.str.replace(\" \", \"_\", regex=True)\n",
        "df.columns = df.columns.str.replace(\",\", \"\", regex=True)\n",
        "df.columns = df.columns.str.replace(\"3\", \"_3\", regex=True)\n",
        "df.columns = df.columns.str.replace(\".\", \"\", regex=True)\n",
        "df.columns = df.columns.str.replace(\"-\", \"_\", regex=True)\n",
        "df.columns = df.columns.str.replace(\"(\", \"\", regex=True)\n",
        "df.columns = df.columns.str.replace(\")\", \"\", regex=True)\n",
        "df.columns = df.columns.str.replace(\"/\", \"_\", regex=True)\n",
        "df.columns = df.columns.str.replace(\":\", \"\", regex=True)\n",
        "df.columns = df.columns.str.replace(\"%\", \"_perc\", regex=True)\n",
        "df.columns = df.columns.str.replace(\"?\", \"\", regex=True)\n",
        "df.columns = df.columns.str.replace(\"ê\", \"e\", regex=True)\n",
        "df.columns = df.columns.str.replace(\"â\", \"a\", regex=True)\n",
        "df.columns = df.columns.str.replace(\"ç\", \"c\", regex=True)\n",
        "df.columns = df.columns.str.replace(\"ã\", \"a\", regex=True)\n",
        "df.columns = df.columns.str.replace(\"ª\", \"a\", regex=True)\n",
        "df.columns = df.columns.str.replace(\"__\", \"_\", regex=True)\n",
        "df.columns = df.columns.str.replace(\"#\", \"\", regex=True)\n",
        "df.columns = df.columns.str.replace(\"í\", \"i\", regex=True)\n",
        "df.columns = df.columns.str.replace(\"õ\", \"o\", regex=True)\n",
        "df.columns = df.columns.str.replace(\"é\", \"e\", regex=True)\n",
        "df.columns = df.columns.str.lower()\n",
        "df = df.astype(str)\n",
        "\n",
        "df[\"investimento\"] = df[\"investimento\"].astype(float)\n",
        "df[\"impressoes\"] = df[\"impressoes\"].astype(float)\n",
        "df[\"views_100_perc\"] = df[\"views_100_perc\"].astype(float)\n",
        "df[\"views\"] = df[\"views\"].astype(float)\n",
        "df[\"ctr\"] = df[\"ctr\"].astype(float)\n",
        "df[\"vtr\"] = df[\"vtr\"].astype(float)\n",
        "df[\"clique_no_link\"] = df[\"clique_no_link\"].astype(float)\n",
        "df[\"cpc\"] = df[\"cpc\"].astype(float)\n",
        "df[\"cpv\"] = df[\"cpv\"].astype(float)\n",
        "df[\"cpvc\"] = df[\"cpvc\"].astype(float)\n",
        "df[\"cpm\"] = df[\"cpm\"].astype(float)\n",
        "df[\"connect_rate\"] = df[\"connect_rate\"].astype(float)\n",
        "df[\"sessoes\"] = df[\"sessoes\"].astype(float)\n"
      ],
      "metadata": {
        "id": "nd5Avbc4GIkp"
      },
      "execution_count": null,
      "outputs": []
    },
    {
      "cell_type": "code",
      "source": [
        "key_path = \"kimberly-clark-2023-39c52ff03028.json\"\n",
        "SERVICE_CREDS = service_account.Credentials.from_service_account_file(\n",
        "key_path, scopes=[\"https://www.googleapis.com/auth/bigquery\"])\n",
        "\n",
        "df.to_gbq(\n",
        "    project_id='kimberly-clark-2023',\n",
        "    destination_table='NOME_DO_DATASET.NOME_DA_TABELA',\n",
        "    credentials=SERVICE_CREDS,\n",
        "    if_exists='replace',\n",
        "    chunksize=10000,\n",
        "    progress_bar=True)"
      ],
      "metadata": {
        "id": "PbwovoAbGIsF"
      },
      "execution_count": null,
      "outputs": []
    },
    {
      "cell_type": "code",
      "source": [],
      "metadata": {
        "id": "F7MMJOLHGI18"
      },
      "execution_count": null,
      "outputs": []
    }
  ],
  "metadata": {
    "colab": {
      "name": "Olá, este é o Colaboratory",
      "toc_visible": true,
      "provenance": [],
      "include_colab_link": true
    },
    "kernelspec": {
      "display_name": "Python 3",
      "name": "python3"
    }
  },
  "nbformat": 4,
  "nbformat_minor": 0
}